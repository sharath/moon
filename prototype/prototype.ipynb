{
 "cells": [
  {
   "cell_type": "code",
   "execution_count": 67,
   "metadata": {},
   "outputs": [],
   "source": [
    "from pymongo import MongoClient"
   ]
  },
  {
   "cell_type": "code",
   "execution_count": 68,
   "metadata": {
    "collapsed": true
   },
   "outputs": [],
   "source": [
    "database = MongoClient('localhost', 27017).lambo"
   ]
  },
  {
   "cell_type": "code",
   "execution_count": 69,
   "metadata": {},
   "outputs": [],
   "source": [
    "database = database.entries"
   ]
  },
  {
   "cell_type": "code",
   "execution_count": 74,
   "metadata": {},
   "outputs": [],
   "source": [
    "def GetHourlyData(name):\n",
    "    hour = []\n",
    "    for entry in database.find():\n",
    "        for token in entry['token_data']:\n",
    "            if token['name'] == name:\n",
    "                print(token['percent_change_1h'])\n",
    "                hour.append(token['percent_change_1h'])\n",
    "    return hour"
   ]
  },
  {
   "cell_type": "code",
   "execution_count": 75,
   "metadata": {},
   "outputs": [
    {
     "name": "stdout",
     "output_type": "stream",
     "text": [
      "1.09\n",
      "1.16\n",
      "1.06\n",
      "1.09\n",
      "1.1\n",
      "1.3\n",
      "1.19\n",
      "1.4\n",
      "0.98\n",
      "0.98\n",
      "0.8\n",
      "0.64\n",
      "0.58\n",
      "0.58\n",
      "0.69\n",
      "0.69\n",
      "1.02\n",
      "1.0\n",
      "0.83\n",
      "0.83\n",
      "0.92\n",
      "0.97\n",
      "0.76\n",
      "0.71\n",
      "0.43\n",
      "0.28\n",
      "0.17\n",
      "0.17\n",
      "0.08\n",
      "-0.2\n",
      "-0.11\n",
      "-0.09\n",
      "-0.01\n",
      "-0.03\n",
      "0.03\n",
      "0.03\n",
      "-0.21\n",
      "0.05\n",
      "0.05\n",
      "-0.26\n",
      "-0.32\n",
      "-0.3\n",
      "-0.22\n",
      "0.01\n",
      "-0.0\n",
      "0.04\n",
      "0.09\n",
      "0.16\n",
      "0.35\n",
      "0.5\n",
      "0.31\n",
      "0.31\n",
      "0.47\n",
      "0.22\n",
      "0.13\n",
      "0.22\n",
      "0.02\n",
      "0.02\n",
      "0.02\n",
      "-0.01\n",
      "-0.01\n",
      "-0.11\n",
      "-0.11\n",
      "-0.12\n",
      "-0.33\n",
      "-0.33\n"
     ]
    },
    {
     "data": {
      "text/plain": [
       "['1.09',\n",
       " '1.16',\n",
       " '1.06',\n",
       " '1.09',\n",
       " '1.1',\n",
       " '1.3',\n",
       " '1.19',\n",
       " '1.4',\n",
       " '0.98',\n",
       " '0.98',\n",
       " '0.8',\n",
       " '0.64',\n",
       " '0.58',\n",
       " '0.58',\n",
       " '0.69',\n",
       " '0.69',\n",
       " '1.02',\n",
       " '1.0',\n",
       " '0.83',\n",
       " '0.83',\n",
       " '0.92',\n",
       " '0.97',\n",
       " '0.76',\n",
       " '0.71',\n",
       " '0.43',\n",
       " '0.28',\n",
       " '0.17',\n",
       " '0.17',\n",
       " '0.08',\n",
       " '-0.2',\n",
       " '-0.11',\n",
       " '-0.09',\n",
       " '-0.01',\n",
       " '-0.03',\n",
       " '0.03',\n",
       " '0.03',\n",
       " '-0.21',\n",
       " '0.05',\n",
       " '0.05',\n",
       " '-0.26',\n",
       " '-0.32',\n",
       " '-0.3',\n",
       " '-0.22',\n",
       " '0.01',\n",
       " '-0.0',\n",
       " '0.04',\n",
       " '0.09',\n",
       " '0.16',\n",
       " '0.35',\n",
       " '0.5',\n",
       " '0.31',\n",
       " '0.31',\n",
       " '0.47',\n",
       " '0.22',\n",
       " '0.13',\n",
       " '0.22',\n",
       " '0.02',\n",
       " '0.02',\n",
       " '0.02',\n",
       " '-0.01',\n",
       " '-0.01',\n",
       " '-0.11',\n",
       " '-0.11',\n",
       " '-0.12',\n",
       " '-0.33',\n",
       " '-0.33']"
      ]
     },
     "execution_count": 75,
     "metadata": {},
     "output_type": "execute_result"
    }
   ],
   "source": [
    "GetHourlyData(\"Bitcoin\").S"
   ]
  },
  {
   "cell_type": "code",
   "execution_count": null,
   "metadata": {
    "collapsed": true
   },
   "outputs": [],
   "source": []
  }
 ],
 "metadata": {
  "kernelspec": {
   "display_name": "Python 3",
   "language": "python",
   "name": "python3"
  },
  "language_info": {
   "codemirror_mode": {
    "name": "ipython",
    "version": 3
   },
   "file_extension": ".py",
   "mimetype": "text/x-python",
   "name": "python",
   "nbconvert_exporter": "python",
   "pygments_lexer": "ipython3",
   "version": "3.6.3"
  }
 },
 "nbformat": 4,
 "nbformat_minor": 2
}
