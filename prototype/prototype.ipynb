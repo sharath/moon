{
 "cells": [
  {
   "cell_type": "code",
   "execution_count": 73,
   "metadata": {
    "collapsed": true
   },
   "outputs": [],
   "source": [
    "from pymongo import MongoClient"
   ]
  },
  {
   "cell_type": "code",
   "execution_count": 74,
   "metadata": {
    "collapsed": true
   },
   "outputs": [],
   "source": [
    "database = MongoClient('localhost', 27017).lambo"
   ]
  },
  {
   "cell_type": "code",
   "execution_count": 75,
   "metadata": {
    "collapsed": true
   },
   "outputs": [],
   "source": [
    "database = database.entries"
   ]
  },
  {
   "cell_type": "code",
   "execution_count": 91,
   "metadata": {
    "collapsed": true
   },
   "outputs": [],
   "source": [
    "def GetStepData(name):\n",
    "    hour = []\n",
    "    for entry in database.find():\n",
    "        for token in entry['token_data']:\n",
    "            if token['name'] == name:\n",
    "                hour.append(token['price_usd'])\n",
    "    return hour[len(hour)-3:]"
   ]
  },
  {
   "cell_type": "code",
   "execution_count": 92,
   "metadata": {},
   "outputs": [],
   "source": [
    "def GetTokenNames():\n",
    "    names = {}\n",
    "    for entry in database.find():\n",
    "        for token in entry['token_data']:\n",
    "            names[token['name']] = 1\n",
    "    return names.keys()"
   ]
  },
  {
   "cell_type": "code",
   "execution_count": 93,
   "metadata": {},
   "outputs": [],
   "source": [
    "tokens = GetTokenNames()"
   ]
  },
  {
   "cell_type": "markdown",
   "metadata": {},
   "source": [
    "# "
   ]
  },
  {
   "cell_type": "code",
   "execution_count": 94,
   "metadata": {},
   "outputs": [
    {
     "name": "stdout",
     "output_type": "stream",
     "text": [
      "Bitcoin ['11349.0', '11339.3', '11323.8']\n",
      "Ethereum ['860.755', '861.3', '861.461']\n",
      "Ripple ['0.906325', '0.906441', '0.905256']\n",
      "Bitcoin Cash ['1279.29', '1281.21', '1279.66']\n",
      "Litecoin ['212.702', '212.581', '212.041']\n",
      "NEO ['124.458', '124.404', '124.296']\n",
      "Cardano ['0.293488', '0.293109', '0.292507']\n",
      "Stellar ['0.314994', '0.314059', '0.314711']\n",
      "EOS ['8.11382', '8.09986', '8.07531']\n",
      "Monero ['364.475', '364.052', '362.929']\n",
      "IOTA ['1.89407', '1.89202', '1.88928']\n",
      "Dash ['598.062', '598.256', '598.388']\n",
      "NEM ['0.392471', '0.391119', '0.391614']\n",
      "TRON ['0.0513193', '0.0511874', '0.0510805']\n",
      "Ethereum Classic ['29.5497', '29.5092', '29.3739']\n",
      "Tether ['0.997578', '0.99857', '1.00151']\n",
      "VeChain ['4.54504', '4.57154', '4.5358']\n",
      "Nano ['15.8782', '15.9834', '15.9427']\n",
      "Lisk ['19.177', '19.2398', '19.1698']\n",
      "Qtum ['25.8412', '25.8227', '25.8457']\n",
      "OmiseGO ['17.9959', '17.948', '17.9252']\n",
      "Bitcoin Gold ['111.158', '110.904', '110.913']\n",
      "ICON ['3.73575', '3.73792', '3.70666']\n",
      "Zcash ['383.632', '383.392', '383.943']\n",
      "Binance Coin ['10.2485', '10.2628', '10.2599']\n"
     ]
    }
   ],
   "source": [
    "for token in tokens:\n",
    "    print(token, end=\" \")\n",
    "    print(GetStepData(token))"
   ]
  },
  {
   "cell_type": "code",
   "execution_count": null,
   "metadata": {
    "collapsed": true
   },
   "outputs": [],
   "source": []
  }
 ],
 "metadata": {
  "kernelspec": {
   "display_name": "Python 3",
   "language": "python",
   "name": "python3"
  },
  "language_info": {
   "codemirror_mode": {
    "name": "ipython",
    "version": 3
   },
   "file_extension": ".py",
   "mimetype": "text/x-python",
   "name": "python",
   "nbconvert_exporter": "python",
   "pygments_lexer": "ipython3",
   "version": "3.6.3"
  }
 },
 "nbformat": 4,
 "nbformat_minor": 2
}
